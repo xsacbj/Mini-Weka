{
 "cells": [
  {
   "cell_type": "markdown",
   "metadata": {},
   "source": [
    "# Mini Weka\n",
    "**Disciplina: ICC204 – 'Aprendizagem de Máquina e Mineração de Dados'\n",
    "Prof. Rafael Giusti (rgiusti@icomp.ufam.edu.br)**\n",
    "\n",
    "**Objetivo**: \n",
    "    Implementar o Mini Weka, contendo seus próprios algoritmos para induzir e\n",
    "empregar os modelos de classificação estudados em aula.\n",
    "\n",
    "**Formato de entrada**: \n",
    "\n",
    "Os indutores e classificadores devem leem arquivos de dados no formato **ARFF**, como abaixo. \n",
    "```js\n",
    "    @RELATION weather\n",
    "\n",
    "    @ATTRIBUTE outlook {sunny, overcast, rainy}\n",
    "    @ATTRIBUTE temperature REAL\n",
    "    @ATTRIBUTE humidity REAL\n",
    "    @ATTRIBUTE windy {TRUE, FALSE}\n",
    "    @ATTRIBUTE play {yes, no}\n",
    "\n",
    "    @DATA\n",
    "    sunny,85.0,85.0,FALSE,no\n",
    "    sunny,80.0,90.0,TRUE,no\n",
    "    overcast,83.0,86.0,FALSE,yes\n",
    "    rainy,70.0,96.0,FALSE,yes\n",
    "    rainy,68.0,80.0,FALSE,yes\n",
    "    rainy,65.0,70.0,TRUE,no\n",
    "    ...\n",
    "    %\n",
    "    %\n",
    "    %\n",
    "```\n",
    "\n",
    "Os classificadores aceitam arquivos que representam os modelos induzidos, isto será feito através do [*Pickles*](https://www.geeksforgeeks.org/saving-a-machine-learning-model/) para salvar e carregar nossos modelos.\n",
    "\n",
    "## Indutores implementados\n",
    "Serão ser implementados indutores para as seguintes classes de modelos:\n",
    "- [Modelo probabilístico Naive Bayes](#modelo-probabilístico-naive-bayes);\n",
    "- [Árvores de decisão](#árvores-de-decisão);\n",
    "- [Regras](#regras);\n",
    "- [Vizinhança](#vizinhaça);\n",
    "- [Máquinas de vetores de suporte](#máquinas-de-vetores-de-suporte);\n",
    "\n",
    "## Base de dados\n",
    "Para testar e validar nossos modelos, usaremos duas bases de dados, a primeira com atributos numéricos e a segunda com atributos nominais. Ambas as bases terão duas versões, uma completa e a segunda com alguns atributos com valores faltando, para que possam ser tratados no preprocessamento e simular melhor dados brutos encontrados no mundo real.\n",
    "Ambas as bases e outras mais podem ser encontradas no [Weka Data Sets](https://storm.cis.fordham.edu/~gweiss/data-mining/datasets.html)"
   ]
  },
  {
   "cell_type": "code",
   "execution_count": 1,
   "metadata": {},
   "outputs": [],
   "source": [
    "# Para ler e visualizar os dados usaremos o scipy e pandas\n",
    "import numpy as np\n",
    "import pandas as pd\n",
    "from scipy.io.arff import loadarff"
   ]
  },
  {
   "cell_type": "markdown",
   "metadata": {},
   "source": [
    "### Iris dataset\n",
    "Este talvez seja o banco de dados mais conhecido dentro de reconhecimento de padrões. O conjunto de dados contém 3 classes de 50 instâncias cada, onde cada classe se refere a um tipo de planta da íris. Uma classe é linearmente separável das outras duas, estas últimas não são entre si"
   ]
  },
  {
   "cell_type": "code",
   "execution_count": 2,
   "metadata": {},
   "outputs": [
    {
     "data": {
      "text/plain": [
       "Dataset: iris\n",
       "\tsepallength's type is numeric\n",
       "\tsepalwidth's type is numeric\n",
       "\tpetallength's type is numeric\n",
       "\tpetalwidth's type is numeric\n",
       "\tclass's type is nominal, range is ('Iris-setosa', 'Iris-versicolor', 'Iris-virginica')"
      ]
     },
     "execution_count": 2,
     "metadata": {},
     "output_type": "execute_result"
    }
   ],
   "source": [
    "data, info = loadarff('../data/iris.arff')\n",
    "data = pd.DataFrame(data)\n",
    "info"
   ]
  },
  {
   "cell_type": "code",
   "execution_count": 3,
   "metadata": {},
   "outputs": [
    {
     "data": {
      "text/html": [
       "<div>\n",
       "<style scoped>\n",
       "    .dataframe tbody tr th:only-of-type {\n",
       "        vertical-align: middle;\n",
       "    }\n",
       "\n",
       "    .dataframe tbody tr th {\n",
       "        vertical-align: top;\n",
       "    }\n",
       "\n",
       "    .dataframe thead th {\n",
       "        text-align: right;\n",
       "    }\n",
       "</style>\n",
       "<table border=\"1\" class=\"dataframe\">\n",
       "  <thead>\n",
       "    <tr style=\"text-align: right;\">\n",
       "      <th></th>\n",
       "      <th>sepallength</th>\n",
       "      <th>sepalwidth</th>\n",
       "      <th>petallength</th>\n",
       "      <th>petalwidth</th>\n",
       "      <th>class</th>\n",
       "    </tr>\n",
       "  </thead>\n",
       "  <tbody>\n",
       "    <tr>\n",
       "      <th>51</th>\n",
       "      <td>6.4</td>\n",
       "      <td>3.2</td>\n",
       "      <td>4.5</td>\n",
       "      <td>1.5</td>\n",
       "      <td>b'Iris-versicolor'</td>\n",
       "    </tr>\n",
       "    <tr>\n",
       "      <th>7</th>\n",
       "      <td>5.0</td>\n",
       "      <td>3.4</td>\n",
       "      <td>1.5</td>\n",
       "      <td>0.2</td>\n",
       "      <td>b'Iris-setosa'</td>\n",
       "    </tr>\n",
       "    <tr>\n",
       "      <th>15</th>\n",
       "      <td>5.7</td>\n",
       "      <td>4.4</td>\n",
       "      <td>1.5</td>\n",
       "      <td>0.4</td>\n",
       "      <td>b'Iris-setosa'</td>\n",
       "    </tr>\n",
       "    <tr>\n",
       "      <th>6</th>\n",
       "      <td>4.6</td>\n",
       "      <td>3.4</td>\n",
       "      <td>1.4</td>\n",
       "      <td>0.3</td>\n",
       "      <td>b'Iris-setosa'</td>\n",
       "    </tr>\n",
       "    <tr>\n",
       "      <th>91</th>\n",
       "      <td>6.1</td>\n",
       "      <td>3.0</td>\n",
       "      <td>4.6</td>\n",
       "      <td>1.4</td>\n",
       "      <td>b'Iris-versicolor'</td>\n",
       "    </tr>\n",
       "  </tbody>\n",
       "</table>\n",
       "</div>"
      ],
      "text/plain": [
       "    sepallength  sepalwidth  petallength  petalwidth               class\n",
       "51          6.4         3.2          4.5         1.5  b'Iris-versicolor'\n",
       "7           5.0         3.4          1.5         0.2      b'Iris-setosa'\n",
       "15          5.7         4.4          1.5         0.4      b'Iris-setosa'\n",
       "6           4.6         3.4          1.4         0.3      b'Iris-setosa'\n",
       "91          6.1         3.0          4.6         1.4  b'Iris-versicolor'"
      ]
     },
     "execution_count": 3,
     "metadata": {},
     "output_type": "execute_result"
    }
   ],
   "source": [
    "data.sample(5)"
   ]
  },
  {
   "cell_type": "markdown",
   "metadata": {},
   "source": [
    "Na leitura do arquivo ARFF, os valores nominais das espécies acabaram por ser convertido no tipo Byte, para facilitar nosso trabalho vamos converter novamente para o tipo String"
   ]
  },
  {
   "cell_type": "code",
   "execution_count": 4,
   "metadata": {},
   "outputs": [
    {
     "data": {
      "text/html": [
       "<div>\n",
       "<style scoped>\n",
       "    .dataframe tbody tr th:only-of-type {\n",
       "        vertical-align: middle;\n",
       "    }\n",
       "\n",
       "    .dataframe tbody tr th {\n",
       "        vertical-align: top;\n",
       "    }\n",
       "\n",
       "    .dataframe thead th {\n",
       "        text-align: right;\n",
       "    }\n",
       "</style>\n",
       "<table border=\"1\" class=\"dataframe\">\n",
       "  <thead>\n",
       "    <tr style=\"text-align: right;\">\n",
       "      <th></th>\n",
       "      <th>sepallength</th>\n",
       "      <th>sepalwidth</th>\n",
       "      <th>petallength</th>\n",
       "      <th>petalwidth</th>\n",
       "      <th>class</th>\n",
       "    </tr>\n",
       "  </thead>\n",
       "  <tbody>\n",
       "    <tr>\n",
       "      <th>119</th>\n",
       "      <td>6.0</td>\n",
       "      <td>2.2</td>\n",
       "      <td>5.0</td>\n",
       "      <td>1.5</td>\n",
       "      <td>Iris-virginica</td>\n",
       "    </tr>\n",
       "    <tr>\n",
       "      <th>0</th>\n",
       "      <td>5.1</td>\n",
       "      <td>3.5</td>\n",
       "      <td>1.4</td>\n",
       "      <td>0.2</td>\n",
       "      <td>Iris-setosa</td>\n",
       "    </tr>\n",
       "    <tr>\n",
       "      <th>13</th>\n",
       "      <td>4.3</td>\n",
       "      <td>3.0</td>\n",
       "      <td>1.1</td>\n",
       "      <td>0.1</td>\n",
       "      <td>Iris-setosa</td>\n",
       "    </tr>\n",
       "    <tr>\n",
       "      <th>115</th>\n",
       "      <td>6.4</td>\n",
       "      <td>3.2</td>\n",
       "      <td>5.3</td>\n",
       "      <td>2.3</td>\n",
       "      <td>Iris-virginica</td>\n",
       "    </tr>\n",
       "    <tr>\n",
       "      <th>7</th>\n",
       "      <td>5.0</td>\n",
       "      <td>3.4</td>\n",
       "      <td>1.5</td>\n",
       "      <td>0.2</td>\n",
       "      <td>Iris-setosa</td>\n",
       "    </tr>\n",
       "  </tbody>\n",
       "</table>\n",
       "</div>"
      ],
      "text/plain": [
       "     sepallength  sepalwidth  petallength  petalwidth           class\n",
       "119          6.0         2.2          5.0         1.5  Iris-virginica\n",
       "0            5.1         3.5          1.4         0.2     Iris-setosa\n",
       "13           4.3         3.0          1.1         0.1     Iris-setosa\n",
       "115          6.4         3.2          5.3         2.3  Iris-virginica\n",
       "7            5.0         3.4          1.5         0.2     Iris-setosa"
      ]
     },
     "execution_count": 4,
     "metadata": {},
     "output_type": "execute_result"
    }
   ],
   "source": [
    "data['class'] = data['class'].apply(lambda specie: specie.decode(\"utf-8\"))\n",
    "data.sample(5)"
   ]
  },
  {
   "cell_type": "code",
   "execution_count": 5,
   "metadata": {},
   "outputs": [],
   "source": [
    "iris = data"
   ]
  },
  {
   "cell_type": "markdown",
   "metadata": {},
   "source": [
    "### Weather dataset\n",
    "Este banco consiste em condições atmosféricas necessárias para se confirmar uma partida de um jogo. O conjunto de dados contém 2 classes com 5 'no's e 9 'yes's, ao que se refere jogar naquelas condições"
   ]
  },
  {
   "cell_type": "code",
   "execution_count": 6,
   "metadata": {},
   "outputs": [
    {
     "data": {
      "text/plain": [
       "Dataset: weather\n",
       "\toutlook's type is nominal, range is ('sunny', 'overcast', 'rainy')\n",
       "\ttemperature's type is numeric\n",
       "\thumidity's type is numeric\n",
       "\twindy's type is nominal, range is ('TRUE', 'FALSE')\n",
       "\tplay's type is nominal, range is ('yes', 'no')"
      ]
     },
     "execution_count": 6,
     "metadata": {},
     "output_type": "execute_result"
    }
   ],
   "source": [
    "data, info = loadarff('../data/weather.arff')\n",
    "data = pd.DataFrame(data)\n",
    "info"
   ]
  },
  {
   "cell_type": "code",
   "execution_count": 7,
   "metadata": {},
   "outputs": [
    {
     "data": {
      "text/html": [
       "<div>\n",
       "<style scoped>\n",
       "    .dataframe tbody tr th:only-of-type {\n",
       "        vertical-align: middle;\n",
       "    }\n",
       "\n",
       "    .dataframe tbody tr th {\n",
       "        vertical-align: top;\n",
       "    }\n",
       "\n",
       "    .dataframe thead th {\n",
       "        text-align: right;\n",
       "    }\n",
       "</style>\n",
       "<table border=\"1\" class=\"dataframe\">\n",
       "  <thead>\n",
       "    <tr style=\"text-align: right;\">\n",
       "      <th></th>\n",
       "      <th>outlook</th>\n",
       "      <th>temperature</th>\n",
       "      <th>humidity</th>\n",
       "      <th>windy</th>\n",
       "      <th>play</th>\n",
       "    </tr>\n",
       "  </thead>\n",
       "  <tbody>\n",
       "    <tr>\n",
       "      <th>10</th>\n",
       "      <td>b'sunny'</td>\n",
       "      <td>75.0</td>\n",
       "      <td>70.0</td>\n",
       "      <td>b'TRUE'</td>\n",
       "      <td>b'yes'</td>\n",
       "    </tr>\n",
       "    <tr>\n",
       "      <th>5</th>\n",
       "      <td>b'rainy'</td>\n",
       "      <td>65.0</td>\n",
       "      <td>70.0</td>\n",
       "      <td>b'TRUE'</td>\n",
       "      <td>b'no'</td>\n",
       "    </tr>\n",
       "    <tr>\n",
       "      <th>9</th>\n",
       "      <td>b'rainy'</td>\n",
       "      <td>75.0</td>\n",
       "      <td>80.0</td>\n",
       "      <td>b'FALSE'</td>\n",
       "      <td>b'yes'</td>\n",
       "    </tr>\n",
       "    <tr>\n",
       "      <th>11</th>\n",
       "      <td>b'overcast'</td>\n",
       "      <td>72.0</td>\n",
       "      <td>90.0</td>\n",
       "      <td>b'TRUE'</td>\n",
       "      <td>b'yes'</td>\n",
       "    </tr>\n",
       "    <tr>\n",
       "      <th>1</th>\n",
       "      <td>b'sunny'</td>\n",
       "      <td>80.0</td>\n",
       "      <td>90.0</td>\n",
       "      <td>b'TRUE'</td>\n",
       "      <td>b'no'</td>\n",
       "    </tr>\n",
       "  </tbody>\n",
       "</table>\n",
       "</div>"
      ],
      "text/plain": [
       "        outlook  temperature  humidity     windy    play\n",
       "10     b'sunny'         75.0      70.0   b'TRUE'  b'yes'\n",
       "5      b'rainy'         65.0      70.0   b'TRUE'   b'no'\n",
       "9      b'rainy'         75.0      80.0  b'FALSE'  b'yes'\n",
       "11  b'overcast'         72.0      90.0   b'TRUE'  b'yes'\n",
       "1      b'sunny'         80.0      90.0   b'TRUE'   b'no'"
      ]
     },
     "execution_count": 7,
     "metadata": {},
     "output_type": "execute_result"
    }
   ],
   "source": [
    "data.sample(5)"
   ]
  },
  {
   "cell_type": "markdown",
   "metadata": {},
   "source": [
    "Neste conjunto, todos os valores nominais estão em bytes, faremos a conversão agora"
   ]
  },
  {
   "cell_type": "code",
   "execution_count": 8,
   "metadata": {},
   "outputs": [
    {
     "data": {
      "text/html": [
       "<div>\n",
       "<style scoped>\n",
       "    .dataframe tbody tr th:only-of-type {\n",
       "        vertical-align: middle;\n",
       "    }\n",
       "\n",
       "    .dataframe tbody tr th {\n",
       "        vertical-align: top;\n",
       "    }\n",
       "\n",
       "    .dataframe thead th {\n",
       "        text-align: right;\n",
       "    }\n",
       "</style>\n",
       "<table border=\"1\" class=\"dataframe\">\n",
       "  <thead>\n",
       "    <tr style=\"text-align: right;\">\n",
       "      <th></th>\n",
       "      <th>outlook</th>\n",
       "      <th>temperature</th>\n",
       "      <th>humidity</th>\n",
       "      <th>windy</th>\n",
       "      <th>play</th>\n",
       "    </tr>\n",
       "  </thead>\n",
       "  <tbody>\n",
       "    <tr>\n",
       "      <th>12</th>\n",
       "      <td>overcast</td>\n",
       "      <td>81.0</td>\n",
       "      <td>75.0</td>\n",
       "      <td>False</td>\n",
       "      <td>yes</td>\n",
       "    </tr>\n",
       "    <tr>\n",
       "      <th>4</th>\n",
       "      <td>rainy</td>\n",
       "      <td>68.0</td>\n",
       "      <td>80.0</td>\n",
       "      <td>False</td>\n",
       "      <td>yes</td>\n",
       "    </tr>\n",
       "    <tr>\n",
       "      <th>7</th>\n",
       "      <td>sunny</td>\n",
       "      <td>72.0</td>\n",
       "      <td>95.0</td>\n",
       "      <td>False</td>\n",
       "      <td>no</td>\n",
       "    </tr>\n",
       "    <tr>\n",
       "      <th>1</th>\n",
       "      <td>sunny</td>\n",
       "      <td>80.0</td>\n",
       "      <td>90.0</td>\n",
       "      <td>True</td>\n",
       "      <td>no</td>\n",
       "    </tr>\n",
       "    <tr>\n",
       "      <th>11</th>\n",
       "      <td>overcast</td>\n",
       "      <td>72.0</td>\n",
       "      <td>90.0</td>\n",
       "      <td>True</td>\n",
       "      <td>yes</td>\n",
       "    </tr>\n",
       "  </tbody>\n",
       "</table>\n",
       "</div>"
      ],
      "text/plain": [
       "     outlook  temperature  humidity  windy play\n",
       "12  overcast         81.0      75.0  False  yes\n",
       "4      rainy         68.0      80.0  False  yes\n",
       "7      sunny         72.0      95.0  False   no\n",
       "1      sunny         80.0      90.0   True   no\n",
       "11  overcast         72.0      90.0   True  yes"
      ]
     },
     "execution_count": 8,
     "metadata": {},
     "output_type": "execute_result"
    }
   ],
   "source": [
    "data['outlook'] = data['outlook'].apply(lambda outlook: outlook.decode(\"utf-8\"))\n",
    "data['windy'] = data['windy'].apply(lambda windy: True if windy.decode(\"utf-8\")=='TRUE' else False)\n",
    "data['play'] = data['play'].apply(lambda play: play.decode(\"utf-8\"))\n",
    "data.sample(5)"
   ]
  },
  {
   "cell_type": "code",
   "execution_count": 9,
   "metadata": {},
   "outputs": [],
   "source": [
    "weather = data"
   ]
  },
  {
   "cell_type": "markdown",
   "metadata": {},
   "source": [
    "### Contact Lens Dataset\n",
    "\n",
    "Este banco de dados consiste no tipo de lente de contato adequada para uma pessoa. Contém 3 classes e 24 instâncias sendo 5 'soft', 4 'hard' e 15 'none', se referindo ao tipo de lente de contato adequado às condições daquela pessoa. "
   ]
  },
  {
   "cell_type": "code",
   "execution_count": 10,
   "metadata": {},
   "outputs": [
    {
     "data": {
      "text/plain": [
       "Dataset: contact-lenses\n",
       "\tage's type is nominal, range is ('young', 'pre-presbyopic', 'presbyopic')\n",
       "\tspectacle-prescrip's type is nominal, range is ('myope', 'hypermetrope')\n",
       "\tastigmatism's type is nominal, range is ('no', 'yes')\n",
       "\ttear-prod-rate's type is nominal, range is ('reduced', 'normal')\n",
       "\tcontact-lenses's type is nominal, range is ('soft', 'hard', 'none')"
      ]
     },
     "execution_count": 10,
     "metadata": {},
     "output_type": "execute_result"
    }
   ],
   "source": [
    "data, info = loadarff('../data/contact-lenses.arff')\n",
    "data = pd.DataFrame(data)\n",
    "info"
   ]
  },
  {
   "cell_type": "code",
   "execution_count": 11,
   "metadata": {},
   "outputs": [
    {
     "data": {
      "text/html": [
       "<div>\n",
       "<style scoped>\n",
       "    .dataframe tbody tr th:only-of-type {\n",
       "        vertical-align: middle;\n",
       "    }\n",
       "\n",
       "    .dataframe tbody tr th {\n",
       "        vertical-align: top;\n",
       "    }\n",
       "\n",
       "    .dataframe thead th {\n",
       "        text-align: right;\n",
       "    }\n",
       "</style>\n",
       "<table border=\"1\" class=\"dataframe\">\n",
       "  <thead>\n",
       "    <tr style=\"text-align: right;\">\n",
       "      <th></th>\n",
       "      <th>age</th>\n",
       "      <th>spectacle-prescrip</th>\n",
       "      <th>astigmatism</th>\n",
       "      <th>tear-prod-rate</th>\n",
       "      <th>contact-lenses</th>\n",
       "    </tr>\n",
       "  </thead>\n",
       "  <tbody>\n",
       "    <tr>\n",
       "      <th>20</th>\n",
       "      <td>b'presbyopic'</td>\n",
       "      <td>b'hypermetrope'</td>\n",
       "      <td>b'no'</td>\n",
       "      <td>b'reduced'</td>\n",
       "      <td>b'none'</td>\n",
       "    </tr>\n",
       "    <tr>\n",
       "      <th>21</th>\n",
       "      <td>b'presbyopic'</td>\n",
       "      <td>b'hypermetrope'</td>\n",
       "      <td>b'no'</td>\n",
       "      <td>b'normal'</td>\n",
       "      <td>b'soft'</td>\n",
       "    </tr>\n",
       "    <tr>\n",
       "      <th>19</th>\n",
       "      <td>b'presbyopic'</td>\n",
       "      <td>b'myope'</td>\n",
       "      <td>b'yes'</td>\n",
       "      <td>b'normal'</td>\n",
       "      <td>b'hard'</td>\n",
       "    </tr>\n",
       "    <tr>\n",
       "      <th>5</th>\n",
       "      <td>b'young'</td>\n",
       "      <td>b'hypermetrope'</td>\n",
       "      <td>b'no'</td>\n",
       "      <td>b'normal'</td>\n",
       "      <td>b'soft'</td>\n",
       "    </tr>\n",
       "    <tr>\n",
       "      <th>2</th>\n",
       "      <td>b'young'</td>\n",
       "      <td>b'myope'</td>\n",
       "      <td>b'yes'</td>\n",
       "      <td>b'reduced'</td>\n",
       "      <td>b'none'</td>\n",
       "    </tr>\n",
       "  </tbody>\n",
       "</table>\n",
       "</div>"
      ],
      "text/plain": [
       "              age spectacle-prescrip astigmatism tear-prod-rate contact-lenses\n",
       "20  b'presbyopic'    b'hypermetrope'       b'no'     b'reduced'        b'none'\n",
       "21  b'presbyopic'    b'hypermetrope'       b'no'      b'normal'        b'soft'\n",
       "19  b'presbyopic'           b'myope'      b'yes'      b'normal'        b'hard'\n",
       "5        b'young'    b'hypermetrope'       b'no'      b'normal'        b'soft'\n",
       "2        b'young'           b'myope'      b'yes'     b'reduced'        b'none'"
      ]
     },
     "execution_count": 11,
     "metadata": {},
     "output_type": "execute_result"
    }
   ],
   "source": [
    "data.sample(5)"
   ]
  },
  {
   "cell_type": "markdown",
   "metadata": {},
   "source": [
    "Nesse conjunto, todos os valores são nominais e estão em bytes, faremos a conversão agora."
   ]
  },
  {
   "cell_type": "code",
   "execution_count": 12,
   "metadata": {},
   "outputs": [
    {
     "data": {
      "text/html": [
       "<div>\n",
       "<style scoped>\n",
       "    .dataframe tbody tr th:only-of-type {\n",
       "        vertical-align: middle;\n",
       "    }\n",
       "\n",
       "    .dataframe tbody tr th {\n",
       "        vertical-align: top;\n",
       "    }\n",
       "\n",
       "    .dataframe thead th {\n",
       "        text-align: right;\n",
       "    }\n",
       "</style>\n",
       "<table border=\"1\" class=\"dataframe\">\n",
       "  <thead>\n",
       "    <tr style=\"text-align: right;\">\n",
       "      <th></th>\n",
       "      <th>age</th>\n",
       "      <th>spectacle-prescrip</th>\n",
       "      <th>astigmatism</th>\n",
       "      <th>tear-prod-rate</th>\n",
       "      <th>contact-lenses</th>\n",
       "    </tr>\n",
       "  </thead>\n",
       "  <tbody>\n",
       "    <tr>\n",
       "      <th>15</th>\n",
       "      <td>pre-presbyopic</td>\n",
       "      <td>hypermetrope</td>\n",
       "      <td>yes</td>\n",
       "      <td>normal</td>\n",
       "      <td>none</td>\n",
       "    </tr>\n",
       "    <tr>\n",
       "      <th>8</th>\n",
       "      <td>pre-presbyopic</td>\n",
       "      <td>myope</td>\n",
       "      <td>no</td>\n",
       "      <td>reduced</td>\n",
       "      <td>none</td>\n",
       "    </tr>\n",
       "    <tr>\n",
       "      <th>18</th>\n",
       "      <td>presbyopic</td>\n",
       "      <td>myope</td>\n",
       "      <td>yes</td>\n",
       "      <td>reduced</td>\n",
       "      <td>none</td>\n",
       "    </tr>\n",
       "    <tr>\n",
       "      <th>21</th>\n",
       "      <td>presbyopic</td>\n",
       "      <td>hypermetrope</td>\n",
       "      <td>no</td>\n",
       "      <td>normal</td>\n",
       "      <td>soft</td>\n",
       "    </tr>\n",
       "    <tr>\n",
       "      <th>3</th>\n",
       "      <td>young</td>\n",
       "      <td>myope</td>\n",
       "      <td>yes</td>\n",
       "      <td>normal</td>\n",
       "      <td>hard</td>\n",
       "    </tr>\n",
       "  </tbody>\n",
       "</table>\n",
       "</div>"
      ],
      "text/plain": [
       "               age spectacle-prescrip astigmatism tear-prod-rate  \\\n",
       "15  pre-presbyopic       hypermetrope         yes         normal   \n",
       "8   pre-presbyopic              myope          no        reduced   \n",
       "18      presbyopic              myope         yes        reduced   \n",
       "21      presbyopic       hypermetrope          no         normal   \n",
       "3            young              myope         yes         normal   \n",
       "\n",
       "   contact-lenses  \n",
       "15           none  \n",
       "8            none  \n",
       "18           none  \n",
       "21           soft  \n",
       "3            hard  "
      ]
     },
     "execution_count": 12,
     "metadata": {},
     "output_type": "execute_result"
    }
   ],
   "source": [
    "data['age'] = data['age'].apply(lambda age: age.decode(\"utf-8\"))\n",
    "data['spectacle-prescrip'] = data['spectacle-prescrip'].apply(lambda prescrip: prescrip.decode(\"utf-8\"))\n",
    "data['astigmatism'] = data['astigmatism'].apply(lambda astigmatism: astigmatism.decode(\"utf-8\"))\n",
    "data['tear-prod-rate'] = data['tear-prod-rate'].apply(lambda tear: tear.decode(\"utf-8\"))\n",
    "data['contact-lenses'] = data['contact-lenses'].apply(lambda contact: contact.decode(\"utf-8\"))\n",
    "data.sample(5)"
   ]
  },
  {
   "cell_type": "code",
   "execution_count": 13,
   "metadata": {},
   "outputs": [],
   "source": [
    "contact = data"
   ]
  },
  {
   "cell_type": "markdown",
   "metadata": {},
   "source": [
    "## Visualização dos dados\n",
    "\n",
    "Antes de iniciar qualquer trabalho em cima dos conjuntos de dados, é importante conhecer bem os mesmos. Usar gráficos e diagramas para visualizar grandes quantidades de dados complexos torna mais fácil compreender como os dados estão distribuídos ou identificar novos padrões. Este conhecimento nos ajuda a tomar decisões de projetos enquanto construímos nosso modelo"
   ]
  },
  {
   "cell_type": "code",
   "execution_count": 14,
   "metadata": {},
   "outputs": [],
   "source": [
    "import seaborn as sns\n",
    "import matplotlib.pyplot as plt"
   ]
  },
  {
   "cell_type": "markdown",
   "metadata": {},
   "source": [
    "### Iris plot\n",
    "Quando não sabemos por onde começar, podemos sempre tentar plotar os atributos em pares, assim obtemos uma visão geral do conjunto"
   ]
  },
  {
   "cell_type": "code",
   "execution_count": 15,
   "metadata": {},
   "outputs": [
    {
     "data": {
      "image/png": "[encoded data removed]",
      "text/plain": [
       "<Figure size 823.5x720 with 20 Axes>"
      ]
     },
     "metadata": {
      "needs_background": "light"
     },
     "output_type": "display_data"
    }
   ],
   "source": [
    "sns.pairplot(iris, hue='class', markers='o')\n",
    "plt.show()"
   ]
  },
  {
   "cell_type": "markdown",
   "metadata": {},
   "source": [
    "E analisando o grafico, percebe-se que os atributos 'petallength' e 'petalwidth' representam melhor as amostras ao separar de forma mais precisa as espécies de Iris"
   ]
  },
  {
   "cell_type": "markdown",
   "metadata": {},
   "source": [
    "### Weather plot\n",
    "Este conjunto tem apenas dois atributos numéricos então teremos que analisar os demais usando outras ferramentas gráficas"
   ]
  },
  {
   "cell_type": "code",
   "execution_count": 16,
   "metadata": {},
   "outputs": [
    {
     "data": {
      "image/png": "[encoded data removed]",
      "text/plain": [
       "<Figure size 413.25x360 with 6 Axes>"
      ]
     },
     "metadata": {
      "needs_background": "light"
     },
     "output_type": "display_data"
    }
   ],
   "source": [
    "sns.pairplot(weather.drop('windy', axis=1), hue='play', markers='o')\n",
    "plt.show()"
   ]
  },
  {
   "cell_type": "markdown",
   "metadata": {},
   "source": [
    "Nota-se pelo plot que os atributos numéricos não separam as amostras de forma satisfatória, sendo assim necessário usar os demais atributos para aprimorar nossa abstração do conhecimento"
   ]
  },
  {
   "cell_type": "code",
   "execution_count": 17,
   "metadata": {},
   "outputs": [
    {
     "data": {
      "image/png": "[encoded data removed]",
      "text/plain": [
       "<Figure size 1080x360 with 2 Axes>"
      ]
     },
     "metadata": {
      "needs_background": "light"
     },
     "output_type": "display_data"
    },
    {
     "data": {
      "image/png": "[encoded data removed]",
      "text/plain": [
       "<Figure size 942.875x288 with 2 Axes>"
      ]
     },
     "metadata": {
      "needs_background": "light"
     },
     "output_type": "display_data"
    }
   ],
   "source": [
    "fig = plt.figure(figsize=(15,5))\n",
    "\n",
    "a = fig.add_subplot(1, 2, 1)\n",
    "a.set_title('Aperência')\n",
    "sns.countplot(x=\"play\", hue=\"outlook\", data=weather)\n",
    "\n",
    "a = fig.add_subplot(1, 2, 2)\n",
    "a.set_title('Vento forte')\n",
    "sns.countplot(x=\"play\", hue=\"windy\", data=weather)\n",
    "\n",
    "plt.show()\n",
    "\n",
    "sns.catplot(x=\"play\", hue=\"outlook\", col=\"windy\", data=weather, kind=\"count\", height=4, aspect=1.5)\n",
    "plt.show()"
   ]
  },
  {
   "cell_type": "markdown",
   "metadata": {},
   "source": [
    "Apesar da visualisação simples apresentada acima, é o suficiente para observar de forma tímida como e quanto os atributos infuenciam a classe alvo"
   ]
  },
  {
   "cell_type": "markdown",
   "metadata": {},
   "source": [
    "### Contact Plot\n",
    "Esse banco de dados possui apenas atributos categóricos"
   ]
  },
  {
   "cell_type": "code",
   "execution_count": 18,
   "metadata": {},
   "outputs": [
    {
     "data": {
      "image/png": "[encoded data removed]",
      "text/plain": [
       "<Figure size 1080x360 with 2 Axes>"
      ]
     },
     "metadata": {
      "needs_background": "light"
     },
     "output_type": "display_data"
    },
    {
     "data": {
      "image/png": "[encoded data removed]",
      "text/plain": [
       "<Figure size 1080x360 with 2 Axes>"
      ]
     },
     "metadata": {
      "needs_background": "light"
     },
     "output_type": "display_data"
    }
   ],
   "source": [
    "fig = plt.figure(figsize=(15,5))\n",
    "\n",
    "a = fig.add_subplot(1, 2, 1)\n",
    "a.set_title('Age')\n",
    "sns.countplot(x=\"contact-lenses\", hue=\"age\", data=contact)\n",
    "\n",
    "a = fig.add_subplot(1, 2, 2)\n",
    "a.set_title('spectacle-prescrip')\n",
    "sns.countplot(x=\"contact-lenses\", hue=\"spectacle-prescrip\", data=contact)\n",
    "plt.show()\n",
    "\n",
    "fig = plt.figure(figsize=(15,5))\n",
    "\n",
    "a = fig.add_subplot(1, 2, 1)\n",
    "a.set_title('astigmatism')\n",
    "sns.countplot(x=\"contact-lenses\", hue=\"astigmatism\", data=contact)\n",
    "\n",
    "a = fig.add_subplot(1, 2, 2)\n",
    "a.set_title('tear-prod-rate')\n",
    "sns.countplot(x=\"contact-lenses\", hue=\"tear-prod-rate\", data=contact)\n",
    "plt.show()\n",
    "\n"
   ]
  },
  {
   "cell_type": "markdown",
   "metadata": {},
   "source": [
    "## Classe para Modelos com base Gausiana"
   ]
  },
  {
   "cell_type": "code",
   "execution_count": 6,
   "metadata": {},
   "outputs": [],
   "source": [
    "from sklearn.preprocessing import LabelEncoder\n",
    "class GaussianBase(object):\n",
    "    def __init__(self):\n",
    "        self.n_feature = None\n",
    "        \n",
    "    def check_X_y(self, X, y=None, reset=False):\n",
    "        n_samples, n_feature = X.shape\n",
    "        \n",
    "        if(y is not None and n_samples != len(y)):  raise Exception('Numero diferente de dados e rótulos das amotras')\n",
    "        if(reset):\n",
    "            self.n_feature = n_feature\n",
    "            self.feature_label_encoder = [None for i in range(n_feature)]\n",
    "        if(self.n_feature is None): raise Exception('Tente treinar o modelo primeiro')\n",
    "        elif(self.n_feature != n_feature): raise Exception(f'Número de atributos difere do cedido anteriomente: {n_feature} ao invés de {self.n_feature}')\n",
    "        \n",
    "        feature_label_encoder = self.feature_label_encoder\n",
    "        for i in range(n_feature):\n",
    "            try:\n",
    "                float(X[0,i])\n",
    "            except:\n",
    "                if(feature_label_encoder[i]==None):\n",
    "                    feature_label_encoder[i] = LabelEncoder()\n",
    "                    feature_label_encoder[i].fit(X[:, i])\n",
    "                X[:, i] = feature_label_encoder[i].transform(X[:,i])\n",
    "                \n",
    "        self.n_samples = n_samples\n",
    "        self.n_feature = n_feature\n",
    "        self.feature_label_encoder = feature_label_encoder\n",
    "                \n",
    "        return X,y"
   ]
  },
  {
   "cell_type": "markdown",
   "metadata": {},
   "source": [
    "##  Modelo probabilístico Naive Bayes<a name=\"modelo-probabilístico-naive-bayes\"></a>\n",
    "\n",
    "O Naive Bayes é um classificador probabilístico simples baseado no teorema de Bayes. O teorema de Bayes descreve a probabilidade de um evento, com base no conhecimento prévio de condições que podem estar relacionadas ao evento. Por exemplo, se o alzheimer está relacionado à idade, então, usando o teorema de Bayes, a idade de uma pessoa pode ser usada para avaliar com mais precisão a probabilidade de alzheimer, comparada com a avaliação da probabilidade sem conhecimento da idade da pessoa.\n",
    "\n",
    "O teorema de Bayes é declarado matematicamente como a seguinte equação:\n",
    "\n",
    "$$\n",
    "    P(A\\mid B) = \\frac{P(B\\mid A)P(A)}{P(B)}\n",
    "$$\n",
    "\n",
    "onde $A$ e $B$ são eventos e $P(B)\\neq 0$.\n",
    "- $P(A\\mid B)$  é uma probabilidade condicional: a probabilidade do evento $A$ ocorrer dado que $B$ é verdadeiro.\n",
    "- $P(B\\mid A)$ também é uma probabilidade condicional: a probabilidade de evento $B$ ocorrer dado que $A$ é verdadeiro.\n",
    "- $P(A)$ e $P(B)$ são as probabilidades de observar $A$ e $B$ independentemente uns dos outros; isso é conhecido como a probabilidade marginal.\n",
    "\n",
    "Este indutor é chamado de ingênuo pois assume que todos os atributos são independentes entre si:\n",
    "\n",
    "$$\n",
    "    f_{nb}(X) = argmax_{c_{j} \\in \\Omega} = \\begin{Bmatrix} p(c_{j})\\prod_{i=1}^{M}p(x_{i}\\mid c_{j})\\end{Bmatrix}\n",
    "$$\n",
    "\n",
    "Os parâmetros do modelo são simplesmente as probabilidades posteriores $p(x_{i}\\mid c_{j})$ e as\n",
    "probabilidades a priori $p(c_{j})$, onde $c$ são a classes do conjunto. \n",
    "\n",
    "A diferença entre as diversas variações do Naive Bayes é como o modelo interpreta as probabilidades.\n",
    "\n",
    "### Gaussian Naive Bayes\n",
    "\n",
    "Neste Naive Bayes, assume-se que as probabilidade dos dados são uma distribuição Gaussiana, o que é ótimo para dados contínuos:\n",
    "\n",
    "$$\n",
    "    P(x_i \\mid c) = \\frac{1}{\\sqrt{2\\pi\\sigma^2_c}} \\exp\\left(-\\frac{(x_i - \\mu_c)^2}{2\\sigma^2_c}\\right)\n",
    "$$\n",
    "\n",
    "Os parametros $\\sigma_c$ e $\\mu_c$, neste contexto, são consecutivamente o desvio padrão e a média dos atributos das amostras separadas por classe. \n",
    "\n",
    "Escolhemos esta variação pois transformar os atributos nominais categóricos em numérios contínuos tem baixo custo, assim trabalhamos com ambos os tipos sem muita dificuldade.\n",
    "\n",
    "A partir deste ponto, seguimos os dois passos abaixo:\n",
    "- Treinamento: calcular e armazenar os valores de probabilidades\n",
    "- Classificação de um novo exemplo: calcular as probabilidades para os atributos e classes relevante e escolher o argumento (classe) que maximiza a probabilidade posterior"
   ]
  },
  {
   "cell_type": "code",
   "execution_count": 27,
   "metadata": {},
   "outputs": [],
   "source": [
    "import math\n",
    "\n",
    "class NaiveBayes(GaussianBase):\n",
    "    \n",
    "    def __init__(self):\n",
    "        super().__init__()\n",
    "    \n",
    "    def calculate_probability(self, x, mean, stdev):\n",
    "        return (1 / (math.sqrt(2*math.pi) * stdev)) * math.exp(-(math.pow(x-mean,2)/(2*math.pow(stdev,2))))\n",
    "    \n",
    "    def calculate_class_probabilities(self, sample):\n",
    "        probabilities = {}\n",
    "        for class_value, class_summaries in self.summaries.items():\n",
    "            probabilities[class_value] = 1\n",
    "            for i in range(self.n_feature):\n",
    "                mean, stdev = class_summaries[i]\n",
    "                x = sample[i]\n",
    "                probabilities[class_value] *= self.calculate_probability(x, mean, stdev)\n",
    "        return probabilities\n",
    "    \n",
    "    def separate_by_class(self, X, y):\n",
    "        return { c : X[y==c] for c in np.unique(y) }\n",
    "    \n",
    "    def summarize(self, instances):\n",
    "        return [ (np.mean(instances[:,i]), np.std(instances[:,i])) for i in range(self.n_feature)]\n",
    "        \n",
    "    def fit(self, X, y):\n",
    "        \n",
    "        X,y = self.check_X_y(X,y, reset=True)\n",
    "        separated = self.separate_by_class(X, y)\n",
    "        \n",
    "        summaries = {}\n",
    "        for classValue, instances in separated.items():\n",
    "            summaries[classValue] = self.summarize(instances)\n",
    "            \n",
    "        self.summaries = summaries\n",
    "    \n",
    "    def _predict(self, sample):\n",
    "        probabilities = self.calculate_class_probabilities(sample)\n",
    "        best_label, best_prob = None, -1\n",
    "        for class_value, probability in probabilities.items():\n",
    "            if best_label is None or probability > best_prob:\n",
    "                best_prob = probability\n",
    "                best_label = class_value\n",
    "        return best_label\n",
    "    \n",
    "    def predict(self, X):\n",
    "        X,_ = self.check_X_y(X)\n",
    "        return [ self._predict(sample) for sample in X]"
   ]
  },
  {
   "cell_type": "markdown",
   "metadata": {},
   "source": [
    "## Árvores de decisão <a name=\"árvores-de-decisão\"></a>\n",
    "\n",
    "Árvores de decisão são métodos de aprendizado de máquinas supervisionado não-paramétricos, muito utilizados em tarefas de classificação e regressão.\n",
    "\n",
    "Mas de modo geral, são estruturas de dados formadas por um conjunto de elementos chamados nós, nele são guardado informaões. Além disso, toda árvore possui um nó chamado raiz, que seria o ponto de partida e ligações para outros elementos, denominados nós filhos. Esses filhos podem possuir seus próprios filhos e assim por diante. O nó que não possui filho é conhecido como nó folha. Dessa forma, uma árvore de decisão armazena regras em seus nós, e os nós folhas representam a decisão a ser tomada.\n",
    "\n",
    "Um exemplo de árvore de decisão para o conjunto Weather seria como abaixo:\n",
    "<div style=\"text-align:center\">\n",
    "    <img style=\"width:40%;\n",
    "                height: auto\"\n",
    "         src=\"./decision_tree.png\" />\n",
    "</div>\n"
   ]
  },
  {
   "cell_type": "code",
   "execution_count": null,
   "metadata": {},
   "outputs": [],
   "source": []
  },
  {
   "cell_type": "code",
   "execution_count": null,
   "metadata": {},
   "outputs": [],
   "source": []
  },
  {
   "cell_type": "markdown",
   "metadata": {},
   "source": [
    "## Regras <a name=\"regras\"></a>\n",
    "\n",
    "incluir uma descrição bacana depois\n",
    "\n",
    "esse modelo só funciona para atributos categóricos"
   ]
  },
  {
   "cell_type": "code",
   "execution_count": 20,
   "metadata": {},
   "outputs": [],
   "source": [
    "class Rules(object):\n",
    "    def __init__(self):\n",
    "        self.rules = None\n",
    "        \n",
    "    #Transformando a base de dados numa lista dde dicionários para facilitar o treino\n",
    "    def data_to_dicts(self, data):  \n",
    "        D = []\n",
    "        col = list(data.columns)\n",
    "        for tp in data.values:\n",
    "            d = {}\n",
    "            for i in range(len(col)):\n",
    "                d[col[i]] = tp[i]\n",
    "            D.append(d)\n",
    "        return D\n",
    "    \n",
    "    #Aplicando a regra na base de dados para descobrir quais tuplas são cobertas\n",
    "    def apply_rule(self, data, R):\n",
    "        coverage = data[:]\n",
    "        for r in R:\n",
    "            coverage = [i for i in coverage if i[r[0]] == r[1]]\n",
    "        return coverage\n",
    "    \n",
    "    #Testando a precisão da regra\n",
    "    def rule_accuracy(self, coverage, atr, cls):\n",
    "        accuracy = [i for i in coverage if i[atr] == cls]\n",
    "        return float(len(accuracy))/len(coverage), len(accuracy)\n",
    "    \n",
    "    #Escolhendo a melhor regra dentro de uma lista\n",
    "    def get_best_rule(self, rules):\n",
    "        rule = []\n",
    "        best = []\n",
    "        max_acc = 0\n",
    "        max_cov = 0\n",
    "        for r in rules:\n",
    "            if r[2] > max_acc:\n",
    "                max_acc = r[2]\n",
    "                max_cov = r[3]\n",
    "                best.append(r)\n",
    "                \n",
    "            elif r[2] == max_acc:\n",
    "                if r[3] > max_cov:\n",
    "                    best.append(r)\n",
    "                    \n",
    "        rule.append(best[-1])\n",
    "        return rule\n",
    "    \n",
    "    #Construindo regras\n",
    "    def build(self, instances, atrs, atr, cls):\n",
    "        R = [] #Lista de regras\n",
    "        accuracy = -1 #Precisão das regras geradas\n",
    "        rule_instances = instances[::]  #Instâncias do anco de dados                             \n",
    "        avail_attr = [a for a in atrs if a != atr] #Atributos a serem avaliados\n",
    "        \n",
    "        while True:\n",
    "            all_rules = []\n",
    "            #Para cada atributo ainda não utilizado:\n",
    "            for A in [a for a in avail_attr if a not in [r[0] for r in R]]:\n",
    "                #Para cada valor único deste atributo:\n",
    "                for X in list(set([a[A] for a in rule_instances])):\n",
    "                    \n",
    "                    coverage = self.apply_rule(rule_instances, [[A, X]]) #Aplicar instância\n",
    "                    accuracy = self.rule_accuracy(coverage, atr, cls) #Testar a precisão\n",
    "                    all_rules.append([A, X, accuracy[0], accuracy[1]]) #Guardar regra\n",
    "                    \n",
    "            best = self.get_best_rule(all_rules) #Escolher a melhor regra gerada\n",
    "            \n",
    "            R.append((best[0][0], best[0][1])) #Guardar a melhor regra\n",
    "            \n",
    "            rule_instances = self.apply_rule(rule_instances, R) #Trocar as instâncias para melhorar a regra\n",
    "            \n",
    "            #Se a precisão chegar a 100% ou a regra cobrir menos de uma instância\n",
    "            if best[0][2] == 1.0 or best[0][3] < 1: \n",
    "                break\n",
    "            \n",
    "        return R, rule_instances\n",
    "        \n",
    "    #Treinar o modelo\n",
    "    def train(self, data, atribute=None):\n",
    "        if not atribute: #Se nenhum atributo foi especificado, escolher o último\n",
    "            atribute = data.columns[-1]\n",
    "            \n",
    "        self.atribute = atribute #Guardado o atributo de treinamento\n",
    "        dicts = self.data_to_dicts(data) #Gerando dicionários\n",
    "        atributes = list(data.columns) #Listando os atributos\n",
    "        self.order = atributes #Guardando a lista dos atributos para fazer predições\n",
    "        classes = list(set(data[atribute])) #Listando as classes\n",
    "        self.rules = [] #Lista de regras\n",
    "        \n",
    "        #Escolhendo um atributo padão\n",
    "        m = 0\n",
    "        self.default = None\n",
    "        for cls in classes:\n",
    "            aux = len([i for i in list(data[atribute]) if i == cls])\n",
    "            if aux > m:\n",
    "                m = aux\n",
    "                self.default = cls\n",
    "        #Caso um exemplo não se enquadre em nenhuma regra, será classificado como parte da classe com mais exemplos\n",
    "        \n",
    "        #Para cada classe:\n",
    "        for cls in classes:\n",
    "            instances = dicts[::] \n",
    "            #Enquanto exestirem instâncias desta classe:\n",
    "            while len([i for i in instances if i[atribute] == cls]) > 0:\n",
    "                rule, covered = self.build(instances, atributes, atribute, cls) #Construir regra\n",
    "                self.rules.append({cls:rule}) #Guardar regra\n",
    "                instances = [i for i in instances if i not in covered] #Remover instâncias já cobertas\n",
    "    \n",
    "    #Escrever regras na tela\n",
    "    def __str__(self):\n",
    "        Rule = \"\"\n",
    "        for rule in self.rules:\n",
    "            k = list(rule.keys())[0]\n",
    "            nbr = len(rule[k])        \n",
    "            Rule += \" if \"\n",
    "            for subrules in rule[k]:\n",
    "                nbr -= 1\n",
    "                Rule = Rule + str(subrules[0]) + \" = \" + subrules[1]\n",
    "                if nbr > 0:\n",
    "                    Rule = Rule + \"\\n\\t and \"\n",
    "                else:\n",
    "                    Rule = Rule + \":\\n then \" + self.atribute + \" = \" + k + \"\\n\\n\"\n",
    "        \n",
    "        return Rule +\" else \"+ self.default+\"\\n\"\n",
    "            \n",
    "    #Função de predição\n",
    "    def predict(self, example):\n",
    "        #Para cada regra:\n",
    "        for rule in self.rules:\n",
    "            cls = list(rule.keys())[0] #classe da regra\n",
    "            flag = True #O exemplo pertence à classe cls\n",
    "            #Para cada subregra:\n",
    "            for subrules in rule[cls]:\n",
    "                #Se o exemplo não obedece ela:\n",
    "                if example[self.order.index(subrules[0])] != subrules[1]:\n",
    "                    flag = False #O exemplo não pertence à cls\n",
    "            #Se o exemplo pertence a cls:\n",
    "            if flag:\n",
    "                return cls\n",
    "        \n",
    "        #Caso um exemplo não se enquadre em nenhuma regra, será classificado como parte da classe com mais exemplos\n",
    "        return self.default\n",
    "                "
   ]
  },
  {
   "cell_type": "code",
   "execution_count": 21,
   "metadata": {},
   "outputs": [
    {
     "name": "stdout",
     "output_type": "stream",
     "text": [
      " if astigmatism = yes\n",
      "\t and tear-prod-rate = normal\n",
      "\t and spectacle-prescrip = myope:\n",
      " then contact-lenses = hard\n",
      "\n",
      " if age = young\n",
      "\t and astigmatism = yes\n",
      "\t and tear-prod-rate = normal:\n",
      " then contact-lenses = hard\n",
      "\n",
      " if astigmatism = no\n",
      "\t and tear-prod-rate = normal\n",
      "\t and spectacle-prescrip = hypermetrope:\n",
      " then contact-lenses = soft\n",
      "\n",
      " if astigmatism = no\n",
      "\t and tear-prod-rate = normal\n",
      "\t and age = pre-presbyopic:\n",
      " then contact-lenses = soft\n",
      "\n",
      " if age = young\n",
      "\t and astigmatism = no\n",
      "\t and tear-prod-rate = normal:\n",
      " then contact-lenses = soft\n",
      "\n",
      " if tear-prod-rate = reduced:\n",
      " then contact-lenses = none\n",
      "\n",
      " if age = presbyopic\n",
      "\t and tear-prod-rate = normal\n",
      "\t and spectacle-prescrip = myope\n",
      "\t and astigmatism = no:\n",
      " then contact-lenses = none\n",
      "\n",
      " if astigmatism = yes\n",
      "\t and spectacle-prescrip = hypermetrope\n",
      "\t and age = pre-presbyopic:\n",
      " then contact-lenses = none\n",
      "\n",
      " if age = presbyopic\n",
      "\t and spectacle-prescrip = hypermetrope\n",
      "\t and astigmatism = yes:\n",
      " then contact-lenses = none\n",
      "\n",
      " else none\n",
      "\n"
     ]
    }
   ],
   "source": [
    "r = Rules() #intanciar o modelo\n",
    "r.train(contact) #treinar o modelo\n",
    "print(r)"
   ]
  },
  {
   "cell_type": "code",
   "execution_count": 22,
   "metadata": {},
   "outputs": [
    {
     "name": "stdout",
     "output_type": "stream",
     "text": [
      "soft\n"
     ]
    }
   ],
   "source": [
    "s = ['young','myope','no','normal','?']\n",
    "print(r.predict(s))"
   ]
  },
  {
   "cell_type": "code",
   "execution_count": null,
   "metadata": {},
   "outputs": [],
   "source": []
  },
  {
   "cell_type": "markdown",
   "metadata": {},
   "source": [
    "### K-NN \n",
    "\n",
    "Acrescentar uma descrição top"
   ]
  },
  {
   "cell_type": "code",
   "execution_count": 137,
   "metadata": {},
   "outputs": [],
   "source": [
    "class NN(object):\n",
    "    \n",
    "    def __init__(self):\n",
    "        self.points = []\n",
    "        self.atribute = None\n",
    "        self.cat = {}\n",
    "        self.classes=[]\n",
    "        self.pos = -1\n",
    "    \n",
    "    def clean_cat(self,point):\n",
    "        l = list(point.values())[0]\n",
    "        for atr in range(len(l)):\n",
    "            try:\n",
    "                l[atr] = float(l[atr])\n",
    "            except ValueError:\n",
    "                l[atr] = self.cat[self.order[atr]][l[atr]]\n",
    "        point[list(point.keys())[0]] = l\n",
    "        #return\n",
    "    \n",
    "    def to_number(self, data, points):\n",
    "        atribs = list(data.columns)\n",
    "        count = []\n",
    "        atrs = []\n",
    "        for point in range(len(points)):\n",
    "            k = list(points[point].keys())[0]\n",
    "            for e in range(len(points[point][k])):\n",
    "                try:\n",
    "                    a = int(points[point][k][e])\n",
    "                except:\n",
    "                    if e not in atrs:\n",
    "                        atrs.append(e)\n",
    "                        count.append(0)\n",
    "                        self.cat[atribs[e]] = {}\n",
    "                    \n",
    "                    if points[point][k][e] not in list(self.cat[atribs[e]].keys()):\n",
    "                        self.cat[atribs[e]][points[point][k][e]] = count[atrs.index(e)]\n",
    "                        count[atrs.index(e)]+=1\n",
    "                        \n",
    "                    points[point][k][e] = self.cat[atribs[e]][points[point][k][e]]\n",
    "        return points\n",
    "                \n",
    "    def to_points(self, data):\n",
    "        pos =list(data.columns).index(self.atribute)\n",
    "        have_cat = False\n",
    "        points = []\n",
    "        for tp in data.values:\n",
    "            D = {tp[pos]:[]}\n",
    "            for e in range(len(tp)):\n",
    "                if e != pos:\n",
    "                    try:\n",
    "                        D[tp[pos]].append(float(tp[e]))\n",
    "                    except:\n",
    "                        D[tp[pos]].append(tp[e])\n",
    "                        have_cat = True\n",
    "            \n",
    "            points.append(D)\n",
    "        \n",
    "        if have_cat:\n",
    "            points = self.to_number(data, points)\n",
    "        return points\n",
    "    \n",
    "    def euclideana(self, v1, v2):\n",
    "        return sum([(i-j)**2 for i,j in zip(v1,v2)])**(0.5)\n",
    "    \n",
    "    def manhattan(self, v1, v2):\n",
    "        return sum([abs(i-j) for i,j in zip(v1,v2)])\n",
    "    \n",
    "    def chebyshev(self, v1, v2):\n",
    "        return max([abs(i-j) for i,j in zip(v1,v2)])\n",
    "    \n",
    "    def train(self, data, k=3, atribute=None, dist='euclideana'):\n",
    "        if not atribute:\n",
    "            atribute = list(data.columns)[-1]\n",
    "            self.pos = list(data.columns).index(atribute)\n",
    "        else:\n",
    "            try:\n",
    "                self.pos = list(data.columns).index(atribute)\n",
    "            except:\n",
    "                raise Exception(\"Atributo não encontrado\")\n",
    "        self.atribute = atribute #Guardado o atributo de treinamento\n",
    "        self.classes = list(set(data[atribute]))\n",
    "        self.order = [i for i in list(data.columns) if i != atribute]\n",
    "        self.points = self.to_points(data)\n",
    "        \n",
    "        if k > 0:\n",
    "            self.k = k\n",
    "        else:\n",
    "            raise Exception(\"Número negativo de vizinhos\")\n",
    "        \n",
    "        if dist == 'euclideana':\n",
    "            self.dist = self.euclideana\n",
    "        elif dist == 'manhattan':\n",
    "            self.dist = self.manhattan\n",
    "        elif dist == \"chebyshev\":\n",
    "            self.dist = self.chebyshev\n",
    "        else:\n",
    "            raise Exception(\"Distância inválida\")\n",
    "\n",
    "    \n",
    "    def fat(i):\n",
    "        fat = 1\n",
    "        while i > 1:\n",
    "            fat *= 1\n",
    "        return fat\n",
    "    \n",
    "    def predict(self, example):\n",
    "        point = {'unknow':[example[i] for i in range(len(example)) if i != self.pos]}\n",
    "        self.clean_cat(point)\n",
    "        v = []\n",
    "        d = []\n",
    "        jose = []\n",
    "        all_dists =[]\n",
    "        for pt in self.points:\n",
    "            d = self.dist(list(pt.values())[0], list(point.values())[0])\n",
    "            all_dists.append(d)\n",
    "        \n",
    "        for p in range(len(all_dists)):\n",
    "            jose.append({list(self.points[p].keys())[0]:all_dists[p]})\n",
    "        \n",
    "        jose.sort(key=lambda x: list(x.values())[0])\n",
    "        \n",
    "        v = jose[:self.k:]\n",
    "        \n",
    "        \n",
    "        cls = [0 for i in range(len(self.classes))]\n",
    "        \n",
    "        for i in v:\n",
    "            cls[self.classes.index(list(i.keys())[0])] +=1\n",
    "        return self.classes[cls.index(max(cls))]  \n",
    "        \n",
    "        "
   ]
  },
  {
   "cell_type": "code",
   "execution_count": 138,
   "metadata": {},
   "outputs": [
    {
     "data": {
      "text/plain": [
       "'soft'"
      ]
     },
     "execution_count": 138,
     "metadata": {},
     "output_type": "execute_result"
    }
   ],
   "source": [
    "knn = NN()\n",
    "knn.train(contact, 5)\n",
    "ex = ['young','myope','no','normal','?']\n",
    "knn.predict(ex)"
   ]
  },
  {
   "cell_type": "markdown",
   "metadata": {},
   "source": [
    "## KNN (Sergio)"
   ]
  },
  {
   "cell_type": "code",
   "execution_count": 20,
   "metadata": {},
   "outputs": [],
   "source": [
    "import numpy as np\n",
    "from operator import itemgetter\n",
    "from collections import Counter\n",
    "\n",
    "class KnnClassifier(GaussianBase):\n",
    "    def __init__(self, n_neighbors=5, distance=\"euclideana\"):\n",
    "        super().__init__()\n",
    "        distances = {\"euclideana\":self.__euclideana, \"manhattan\":self.__manhattan, \"chebyshev\":self.__chebyshev}    \n",
    "        \n",
    "        self.n_neighbors = n_neighbors\n",
    "        self.__distance = distances[distance]\n",
    "        self.__distances = distances\n",
    "    \n",
    "    def __euclideana(self, x, y):\n",
    "        return sum((x - y)**2)**0.5\n",
    "    \n",
    "    def __manhattan(self, x, y):\n",
    "        return sum(abs(x - y))\n",
    "    \n",
    "    def __chebyshev(self, x, y):\n",
    "        return max(abs(x - y))\n",
    "    \n",
    "    def fit(self, X, y):\n",
    "        X,y = self.check_X_y(X,y, reset=True)\n",
    "        self.X, self.y = X,y\n",
    "    \n",
    "    def _predict(self, sample):\n",
    "        neighbors_distances = list(map(lambda X,y: (self.__distance(sample,X),y), self.X, self.y))\n",
    "        neighbors_distances.sort(key=itemgetter(0))\n",
    "        neighbors_distances.append((np.Inf,-1))\n",
    "        \n",
    "        k_neighbors = []\n",
    "        for i in range(len(neighbors_distances)):\n",
    "            k_neighbors.append(neighbors_distances[i][1])\n",
    "            if len(k_neighbors) >= self.n_neighbors and neighbors_distances[i][0] != neighbors_distances[i+1][0]:\n",
    "                break\n",
    "        \n",
    "        mode_neighbors_end = Counter(k_neighbors[(self.n_neighbors-1):]).most_common(1)[0][0]\n",
    "        mode_neighbors = Counter(k_neighbors[:(self.n_neighbors-1)] + [mode_neighbors_end]).most_common(1)[0][0]\n",
    "        \n",
    "        return mode_neighbors\n",
    "\n",
    "    def predict(self, X):\n",
    "        X,_ = self.check_X_y(X)\n",
    "        return [ self._predict(sample) for sample in X]\n",
    "    "
   ]
  }
 ],
 "metadata": {
  "kernelspec": {
   "display_name": "Python 3",
   "language": "python",
   "name": "python3"
  },
  "language_info": {
   "codemirror_mode": {
    "name": "ipython",
    "version": 3
   },
   "file_extension": ".py",
   "mimetype": "text/x-python",
   "name": "python",
   "nbconvert_exporter": "python",
   "pygments_lexer": "ipython3",
   "version": "3.7.3"
  }
 },
 "nbformat": 4,
 "nbformat_minor": 2
}
